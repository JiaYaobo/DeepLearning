{
 "cells": [
  {
   "cell_type": "markdown",
   "metadata": {},
   "source": [
    "### 几中不同优化算法的比较"
   ]
  },
  {
   "cell_type": "code",
   "execution_count": 2,
   "metadata": {},
   "outputs": [],
   "source": [
    "# 载入必要的函数库\n",
    "import numpy as np\n",
    "import matplotlib.pyplot as plt\n",
    "\n",
    "import tensorflow as tf\n",
    "from keras import Model\n",
    "from keras.layers import Dense,Flatten,Input\n",
    "from keras.optimizers import SGD,RMSprop,Adam\n",
    "\n",
    "from keras.utils import to_categorical "
   ]
  },
  {
   "cell_type": "code",
   "execution_count": 3,
   "metadata": {},
   "outputs": [
    {
     "name": "stdout",
     "output_type": "stream",
     "text": [
      "(60000, 10)\n",
      "[0. 0. 0. 0. 0. 1. 0. 0. 0. 0.]\n"
     ]
    }
   ],
   "source": [
    "## 载入mnist数据集\n",
    "mnist = tf.keras.datasets.mnist\n",
    "(X_train, y_train), (X_test, y_test) = mnist.load_data() \n",
    "\n",
    "## 转换为one - hot型向量\n",
    "Y_train=to_categorical(y_train)\n",
    "Y_test=to_categorical(y_test)\n",
    "\n",
    "print(Y_train.shape)\n",
    "print(Y_train[0])"
   ]
  },
  {
   "cell_type": "code",
   "execution_count": 4,
   "metadata": {},
   "outputs": [
    {
     "name": "stdout",
     "output_type": "stream",
     "text": [
      "Metal device set to: Apple M1 Pro\n",
      "\n",
      "systemMemory: 32.00 GB\n",
      "maxCacheSize: 10.67 GB\n",
      "\n",
      "Model: \"model\"\n",
      "_________________________________________________________________\n",
      " Layer (type)                Output Shape              Param #   \n",
      "=================================================================\n",
      " input_1 (InputLayer)        [(None, 28, 28)]          0         \n",
      "                                                                 \n",
      " flatten (Flatten)           (None, 784)               0         \n",
      "                                                                 \n",
      " dense (Dense)               (None, 1000)              785000    \n",
      "                                                                 \n",
      " dense_1 (Dense)             (None, 10)                10010     \n",
      "                                                                 \n",
      "=================================================================\n",
      "Total params: 795,010\n",
      "Trainable params: 795,010\n",
      "Non-trainable params: 0\n",
      "_________________________________________________________________\n",
      "Epoch 1/50\n"
     ]
    },
    {
     "name": "stderr",
     "output_type": "stream",
     "text": [
      "2022-10-21 11:34:55.638997: I tensorflow/core/common_runtime/pluggable_device/pluggable_device_factory.cc:305] Could not identify NUMA node of platform GPU ID 0, defaulting to 0. Your kernel may not have been built with NUMA support.\n",
      "2022-10-21 11:34:55.639185: I tensorflow/core/common_runtime/pluggable_device/pluggable_device_factory.cc:271] Created TensorFlow device (/job:localhost/replica:0/task:0/device:GPU:0 with 0 MB memory) -> physical PluggableDevice (device: 0, name: METAL, pci bus id: <undefined>)\n",
      "/opt/miniconda3/envs/tf/lib/python3.9/site-packages/keras/optimizers/optimizer_v2/gradient_descent.py:108: UserWarning: The `lr` argument is deprecated, use `learning_rate` instead.\n",
      "  super(SGD, self).__init__(name, **kwargs)\n",
      "2022-10-21 11:34:55.732703: W tensorflow/core/platform/profile_utils/cpu_utils.cc:128] Failed to get CPU frequency: 0 Hz\n"
     ]
    },
    {
     "name": "stdout",
     "output_type": "stream",
     "text": [
      "13/60 [=====>........................] - ETA: 0s - loss: 85.7410 - accuracy: 0.5771 "
     ]
    },
    {
     "name": "stderr",
     "output_type": "stream",
     "text": [
      "2022-10-21 11:34:55.881156: I tensorflow/core/grappler/optimizers/custom_graph_optimizer_registry.cc:113] Plugin optimizer for device_type GPU is enabled.\n"
     ]
    },
    {
     "name": "stdout",
     "output_type": "stream",
     "text": [
      "60/60 [==============================] - 1s 11ms/step - loss: 21.7702 - accuracy: 0.8113 - val_loss: 2.8491 - val_accuracy: 0.8968\n",
      "Epoch 2/50\n",
      "15/60 [======>.......................] - ETA: 0s - loss: 2.4716 - accuracy: 0.9052"
     ]
    },
    {
     "name": "stderr",
     "output_type": "stream",
     "text": [
      "2022-10-21 11:34:56.517005: I tensorflow/core/grappler/optimizers/custom_graph_optimizer_registry.cc:113] Plugin optimizer for device_type GPU is enabled.\n"
     ]
    },
    {
     "name": "stdout",
     "output_type": "stream",
     "text": [
      "60/60 [==============================] - 1s 9ms/step - loss: 2.2253 - accuracy: 0.9093 - val_loss: 1.9663 - val_accuracy: 0.9140\n",
      "Epoch 3/50\n",
      "60/60 [==============================] - 1s 9ms/step - loss: 1.5206 - accuracy: 0.9246 - val_loss: 1.6248 - val_accuracy: 0.9205\n",
      "Epoch 4/50\n",
      "60/60 [==============================] - 1s 9ms/step - loss: 1.1464 - accuracy: 0.9359 - val_loss: 1.3892 - val_accuracy: 0.9271\n",
      "Epoch 5/50\n",
      "60/60 [==============================] - 1s 9ms/step - loss: 0.9152 - accuracy: 0.9448 - val_loss: 1.2862 - val_accuracy: 0.9308\n",
      "Epoch 6/50\n",
      "60/60 [==============================] - 1s 10ms/step - loss: 0.7499 - accuracy: 0.9510 - val_loss: 1.1702 - val_accuracy: 0.9342\n",
      "Epoch 7/50\n",
      "60/60 [==============================] - 1s 9ms/step - loss: 0.6257 - accuracy: 0.9559 - val_loss: 1.0871 - val_accuracy: 0.9355\n",
      "Epoch 8/50\n",
      "60/60 [==============================] - 1s 9ms/step - loss: 0.5320 - accuracy: 0.9598 - val_loss: 1.0420 - val_accuracy: 0.9359\n",
      "Epoch 9/50\n",
      "60/60 [==============================] - 1s 9ms/step - loss: 0.4547 - accuracy: 0.9639 - val_loss: 1.0030 - val_accuracy: 0.9387\n",
      "Epoch 10/50\n",
      "60/60 [==============================] - 1s 9ms/step - loss: 0.3911 - accuracy: 0.9678 - val_loss: 0.9880 - val_accuracy: 0.9375\n",
      "Epoch 11/50\n",
      "60/60 [==============================] - 1s 9ms/step - loss: 0.3359 - accuracy: 0.9715 - val_loss: 0.9556 - val_accuracy: 0.9400\n",
      "Epoch 12/50\n",
      "60/60 [==============================] - 1s 9ms/step - loss: 0.2930 - accuracy: 0.9742 - val_loss: 0.9232 - val_accuracy: 0.9398\n",
      "Epoch 13/50\n",
      "60/60 [==============================] - 1s 10ms/step - loss: 0.2546 - accuracy: 0.9762 - val_loss: 0.9007 - val_accuracy: 0.9399\n",
      "Epoch 14/50\n",
      "60/60 [==============================] - 1s 9ms/step - loss: 0.2211 - accuracy: 0.9780 - val_loss: 0.9038 - val_accuracy: 0.9402\n",
      "Epoch 15/50\n",
      "60/60 [==============================] - 1s 9ms/step - loss: 0.1937 - accuracy: 0.9801 - val_loss: 0.8811 - val_accuracy: 0.9420\n",
      "Epoch 16/50\n",
      "60/60 [==============================] - 1s 10ms/step - loss: 0.1693 - accuracy: 0.9819 - val_loss: 0.8759 - val_accuracy: 0.9416\n",
      "Epoch 17/50\n",
      "60/60 [==============================] - 1s 9ms/step - loss: 0.1474 - accuracy: 0.9841 - val_loss: 0.8644 - val_accuracy: 0.9428\n",
      "Epoch 18/50\n",
      "60/60 [==============================] - 1s 9ms/step - loss: 0.1296 - accuracy: 0.9856 - val_loss: 0.8556 - val_accuracy: 0.9423\n",
      "Epoch 19/50\n",
      "60/60 [==============================] - 1s 9ms/step - loss: 0.1129 - accuracy: 0.9875 - val_loss: 0.8473 - val_accuracy: 0.9432\n",
      "Epoch 20/50\n",
      "60/60 [==============================] - 1s 9ms/step - loss: 0.0992 - accuracy: 0.9891 - val_loss: 0.8555 - val_accuracy: 0.9424\n",
      "Epoch 21/50\n",
      "60/60 [==============================] - 1s 9ms/step - loss: 0.0861 - accuracy: 0.9899 - val_loss: 0.8405 - val_accuracy: 0.9429\n",
      "Epoch 22/50\n",
      "60/60 [==============================] - 1s 9ms/step - loss: 0.0751 - accuracy: 0.9911 - val_loss: 0.8314 - val_accuracy: 0.9430\n",
      "Epoch 23/50\n",
      "60/60 [==============================] - 1s 9ms/step - loss: 0.0654 - accuracy: 0.9920 - val_loss: 0.8365 - val_accuracy: 0.9428\n",
      "Epoch 24/50\n",
      "60/60 [==============================] - 1s 9ms/step - loss: 0.0569 - accuracy: 0.9933 - val_loss: 0.8298 - val_accuracy: 0.9432\n",
      "Epoch 25/50\n",
      "60/60 [==============================] - 1s 9ms/step - loss: 0.0496 - accuracy: 0.9938 - val_loss: 0.8277 - val_accuracy: 0.9437\n",
      "Epoch 26/50\n",
      "60/60 [==============================] - 1s 9ms/step - loss: 0.0423 - accuracy: 0.9948 - val_loss: 0.8237 - val_accuracy: 0.9427\n",
      "Epoch 27/50\n",
      "60/60 [==============================] - 1s 9ms/step - loss: 0.0370 - accuracy: 0.9953 - val_loss: 0.8179 - val_accuracy: 0.9440\n",
      "Epoch 28/50\n",
      "60/60 [==============================] - 1s 9ms/step - loss: 0.0315 - accuracy: 0.9962 - val_loss: 0.8138 - val_accuracy: 0.9438\n",
      "Epoch 29/50\n",
      "60/60 [==============================] - 1s 9ms/step - loss: 0.0272 - accuracy: 0.9968 - val_loss: 0.8176 - val_accuracy: 0.9436\n",
      "Epoch 30/50\n",
      "60/60 [==============================] - 1s 9ms/step - loss: 0.0235 - accuracy: 0.9973 - val_loss: 0.8127 - val_accuracy: 0.9437\n",
      "Epoch 31/50\n",
      "60/60 [==============================] - 1s 9ms/step - loss: 0.0205 - accuracy: 0.9977 - val_loss: 0.8035 - val_accuracy: 0.9443\n",
      "Epoch 32/50\n",
      "60/60 [==============================] - 1s 10ms/step - loss: 0.0176 - accuracy: 0.9980 - val_loss: 0.8021 - val_accuracy: 0.9439\n",
      "Epoch 33/50\n",
      "60/60 [==============================] - 1s 9ms/step - loss: 0.0153 - accuracy: 0.9985 - val_loss: 0.8081 - val_accuracy: 0.9430\n",
      "Epoch 34/50\n",
      "60/60 [==============================] - 1s 9ms/step - loss: 0.0132 - accuracy: 0.9986 - val_loss: 0.8033 - val_accuracy: 0.9438\n",
      "Epoch 35/50\n",
      "60/60 [==============================] - 1s 9ms/step - loss: 0.0116 - accuracy: 0.9988 - val_loss: 0.8007 - val_accuracy: 0.9438\n",
      "Epoch 36/50\n",
      "60/60 [==============================] - 1s 9ms/step - loss: 0.0100 - accuracy: 0.9991 - val_loss: 0.7993 - val_accuracy: 0.9438\n",
      "Epoch 37/50\n",
      "60/60 [==============================] - 1s 9ms/step - loss: 0.0088 - accuracy: 0.9992 - val_loss: 0.7966 - val_accuracy: 0.9442\n",
      "Epoch 38/50\n",
      "60/60 [==============================] - 1s 9ms/step - loss: 0.0078 - accuracy: 0.9993 - val_loss: 0.7973 - val_accuracy: 0.9438\n",
      "Epoch 39/50\n",
      "60/60 [==============================] - 1s 9ms/step - loss: 0.0067 - accuracy: 0.9995 - val_loss: 0.7948 - val_accuracy: 0.9440\n",
      "Epoch 40/50\n",
      "60/60 [==============================] - 1s 9ms/step - loss: 0.0060 - accuracy: 0.9995 - val_loss: 0.7945 - val_accuracy: 0.9438\n",
      "Epoch 41/50\n",
      "60/60 [==============================] - 1s 9ms/step - loss: 0.0053 - accuracy: 0.9996 - val_loss: 0.7939 - val_accuracy: 0.9445\n",
      "Epoch 42/50\n",
      "60/60 [==============================] - 1s 9ms/step - loss: 0.0048 - accuracy: 0.9997 - val_loss: 0.7925 - val_accuracy: 0.9444\n",
      "Epoch 43/50\n",
      "60/60 [==============================] - 1s 9ms/step - loss: 0.0043 - accuracy: 0.9998 - val_loss: 0.7920 - val_accuracy: 0.9445\n",
      "Epoch 44/50\n",
      "60/60 [==============================] - 1s 9ms/step - loss: 0.0039 - accuracy: 0.9998 - val_loss: 0.7910 - val_accuracy: 0.9451\n",
      "Epoch 45/50\n",
      "60/60 [==============================] - 1s 9ms/step - loss: 0.0036 - accuracy: 0.9998 - val_loss: 0.7885 - val_accuracy: 0.9451\n",
      "Epoch 46/50\n",
      "60/60 [==============================] - 1s 9ms/step - loss: 0.0033 - accuracy: 0.9998 - val_loss: 0.7896 - val_accuracy: 0.9450\n",
      "Epoch 47/50\n",
      "60/60 [==============================] - 1s 9ms/step - loss: 0.0030 - accuracy: 0.9999 - val_loss: 0.7892 - val_accuracy: 0.9450\n",
      "Epoch 48/50\n",
      "60/60 [==============================] - 1s 8ms/step - loss: 0.0028 - accuracy: 0.9999 - val_loss: 0.7879 - val_accuracy: 0.9454\n",
      "Epoch 49/50\n",
      "60/60 [==============================] - 0s 8ms/step - loss: 0.0026 - accuracy: 0.9999 - val_loss: 0.7870 - val_accuracy: 0.9450\n",
      "Epoch 50/50\n",
      "60/60 [==============================] - 1s 9ms/step - loss: 0.0024 - accuracy: 0.9999 - val_loss: 0.7878 - val_accuracy: 0.9455\n"
     ]
    }
   ],
   "source": [
    "'''\n",
    " 实验：构建 Multi-layer Nueral Network 模型 \n",
    "'''\n",
    "\n",
    "##  第一步  创建模型结构 ##\n",
    "\n",
    "IMSIZE = 28                                               \n",
    "input_layer = Input([IMSIZE,IMSIZE])       # MNIST图像为28*28的单层图片\n",
    "x = input_layer                              \n",
    "x = Flatten()(input_layer)                   # 将28*28*1的Tensor拉直为784维向量\n",
    "x = Dense(1000,activation = 'relu')(x)       # 全连接到1000个节点，并采用relu激活函数\n",
    "x = Dense(10,activation = 'softmax')(x)      # 全连接到10个节点，并采用softmax激活函数转化为(0,1)取值\n",
    "output_layer=x\n",
    "model=Model(input_layer,output_layer)    # Model函数将input_layer 和 output_layer中间的部分连接起来\n",
    "model.summary()\n",
    "\n",
    "##  第二步  模型编译 ##\n",
    "\n",
    "model.compile(loss='categorical_crossentropy',optimizer=SGD(lr=0.001),metrics=['accuracy'])\n",
    "\n",
    "##  第三步  模型拟合 ##\n",
    "\n",
    "history1 = model.fit(X_train,Y_train, validation_data=(X_test,Y_test), batch_size=1000, epochs=50)\n",
    "\n",
    "# 第四部  提取loss指标\n",
    "# model.fit会返回一个history对象，里面记录了训练集和测试集的loss以及acc\n",
    "# 我们将这些指标取出，绘制折线图\n",
    "\n",
    "train_loss1 = history1.history[\"loss\"]"
   ]
  },
  {
   "cell_type": "markdown",
   "metadata": {},
   "source": [
    "### 请编写出Momentum、RMSprop和Adam优化算法下的train loss情况，并将四种优化算法绘制在一张折线图下，如下"
   ]
  },
  {
   "cell_type": "code",
   "execution_count": 5,
   "metadata": {},
   "outputs": [
    {
     "name": "stdout",
     "output_type": "stream",
     "text": [
      "Epoch 1/50\n",
      " 4/60 [=>............................] - ETA: 0s - loss: 74.0287 - accuracy: 0.5860"
     ]
    },
    {
     "name": "stderr",
     "output_type": "stream",
     "text": [
      "2022-10-21 11:35:59.707344: I tensorflow/core/grappler/optimizers/custom_graph_optimizer_registry.cc:113] Plugin optimizer for device_type GPU is enabled.\n"
     ]
    },
    {
     "name": "stdout",
     "output_type": "stream",
     "text": [
      "60/60 [==============================] - 1s 13ms/step - loss: 8.3954 - accuracy: 0.8946 - val_loss: 1.8227 - val_accuracy: 0.9224\n",
      "Epoch 2/50\n",
      "15/60 [======>.......................] - ETA: 0s - loss: 1.3910 - accuracy: 0.9369"
     ]
    },
    {
     "name": "stderr",
     "output_type": "stream",
     "text": [
      "2022-10-21 11:36:00.514427: I tensorflow/core/grappler/optimizers/custom_graph_optimizer_registry.cc:113] Plugin optimizer for device_type GPU is enabled.\n"
     ]
    },
    {
     "name": "stdout",
     "output_type": "stream",
     "text": [
      "60/60 [==============================] - 1s 9ms/step - loss: 0.8634 - accuracy: 0.9490 - val_loss: 1.4014 - val_accuracy: 0.9000\n",
      "Epoch 3/50\n",
      "60/60 [==============================] - 1s 9ms/step - loss: 0.4418 - accuracy: 0.9621 - val_loss: 0.7595 - val_accuracy: 0.9448\n",
      "Epoch 4/50\n",
      "60/60 [==============================] - 1s 9ms/step - loss: 0.3081 - accuracy: 0.9722 - val_loss: 0.6038 - val_accuracy: 0.9539\n",
      "Epoch 5/50\n",
      "60/60 [==============================] - 1s 9ms/step - loss: 0.2213 - accuracy: 0.9790 - val_loss: 0.4581 - val_accuracy: 0.9727\n",
      "Epoch 6/50\n",
      "60/60 [==============================] - 1s 9ms/step - loss: 0.1885 - accuracy: 0.9828 - val_loss: 0.5047 - val_accuracy: 0.9685\n",
      "Epoch 7/50\n",
      "60/60 [==============================] - 1s 9ms/step - loss: 0.1765 - accuracy: 0.9845 - val_loss: 0.6050 - val_accuracy: 0.9689\n",
      "Epoch 8/50\n",
      "60/60 [==============================] - 1s 9ms/step - loss: 0.1580 - accuracy: 0.9863 - val_loss: 0.5439 - val_accuracy: 0.9708\n",
      "Epoch 9/50\n",
      "60/60 [==============================] - 1s 9ms/step - loss: 0.1299 - accuracy: 0.9884 - val_loss: 0.5841 - val_accuracy: 0.9721\n",
      "Epoch 10/50\n",
      "60/60 [==============================] - 1s 9ms/step - loss: 0.1061 - accuracy: 0.9898 - val_loss: 0.5171 - val_accuracy: 0.9754\n",
      "Epoch 11/50\n",
      "60/60 [==============================] - 1s 9ms/step - loss: 0.1110 - accuracy: 0.9904 - val_loss: 0.5633 - val_accuracy: 0.9744\n",
      "Epoch 12/50\n",
      "60/60 [==============================] - 1s 9ms/step - loss: 0.1030 - accuracy: 0.9914 - val_loss: 0.5831 - val_accuracy: 0.9751\n",
      "Epoch 13/50\n",
      "60/60 [==============================] - 1s 9ms/step - loss: 0.0962 - accuracy: 0.9920 - val_loss: 0.6925 - val_accuracy: 0.9722\n",
      "Epoch 14/50\n",
      "60/60 [==============================] - 1s 9ms/step - loss: 0.0936 - accuracy: 0.9926 - val_loss: 0.5708 - val_accuracy: 0.9776\n",
      "Epoch 15/50\n",
      "60/60 [==============================] - 1s 9ms/step - loss: 0.0991 - accuracy: 0.9928 - val_loss: 0.7470 - val_accuracy: 0.9718\n",
      "Epoch 16/50\n",
      "60/60 [==============================] - 1s 9ms/step - loss: 0.0944 - accuracy: 0.9935 - val_loss: 0.6597 - val_accuracy: 0.9774\n",
      "Epoch 17/50\n",
      "60/60 [==============================] - 1s 9ms/step - loss: 0.0786 - accuracy: 0.9937 - val_loss: 0.6492 - val_accuracy: 0.9786\n",
      "Epoch 18/50\n",
      "60/60 [==============================] - 1s 9ms/step - loss: 0.0718 - accuracy: 0.9945 - val_loss: 0.7199 - val_accuracy: 0.9769\n",
      "Epoch 19/50\n",
      "60/60 [==============================] - 1s 9ms/step - loss: 0.0715 - accuracy: 0.9948 - val_loss: 0.7481 - val_accuracy: 0.9765\n",
      "Epoch 20/50\n",
      "60/60 [==============================] - 1s 9ms/step - loss: 0.0786 - accuracy: 0.9947 - val_loss: 0.7448 - val_accuracy: 0.9761\n",
      "Epoch 21/50\n",
      "60/60 [==============================] - 1s 9ms/step - loss: 0.0607 - accuracy: 0.9959 - val_loss: 0.8416 - val_accuracy: 0.9744\n",
      "Epoch 22/50\n",
      "60/60 [==============================] - 1s 9ms/step - loss: 0.0723 - accuracy: 0.9948 - val_loss: 0.6126 - val_accuracy: 0.9807\n",
      "Epoch 23/50\n",
      "60/60 [==============================] - 1s 9ms/step - loss: 0.0679 - accuracy: 0.9951 - val_loss: 0.6511 - val_accuracy: 0.9797\n",
      "Epoch 24/50\n",
      "60/60 [==============================] - 1s 9ms/step - loss: 0.0725 - accuracy: 0.9954 - val_loss: 0.7500 - val_accuracy: 0.9763\n",
      "Epoch 25/50\n",
      "60/60 [==============================] - 1s 9ms/step - loss: 0.0642 - accuracy: 0.9958 - val_loss: 0.7611 - val_accuracy: 0.9786\n",
      "Epoch 26/50\n",
      "60/60 [==============================] - 1s 9ms/step - loss: 0.0623 - accuracy: 0.9958 - val_loss: 0.8149 - val_accuracy: 0.9782\n",
      "Epoch 27/50\n",
      "60/60 [==============================] - 1s 10ms/step - loss: 0.0593 - accuracy: 0.9962 - val_loss: 0.7607 - val_accuracy: 0.9792\n",
      "Epoch 28/50\n",
      "60/60 [==============================] - 1s 9ms/step - loss: 0.0611 - accuracy: 0.9961 - val_loss: 0.8382 - val_accuracy: 0.9757\n",
      "Epoch 29/50\n",
      "60/60 [==============================] - 1s 9ms/step - loss: 0.0557 - accuracy: 0.9965 - val_loss: 0.9097 - val_accuracy: 0.9761\n",
      "Epoch 30/50\n",
      "60/60 [==============================] - 1s 9ms/step - loss: 0.0610 - accuracy: 0.9961 - val_loss: 0.8354 - val_accuracy: 0.9787\n",
      "Epoch 31/50\n",
      "60/60 [==============================] - 1s 9ms/step - loss: 0.0528 - accuracy: 0.9966 - val_loss: 0.8240 - val_accuracy: 0.9796\n",
      "Epoch 32/50\n",
      "60/60 [==============================] - 1s 10ms/step - loss: 0.0407 - accuracy: 0.9970 - val_loss: 0.8482 - val_accuracy: 0.9812\n",
      "Epoch 33/50\n",
      "60/60 [==============================] - 1s 9ms/step - loss: 0.0360 - accuracy: 0.9975 - val_loss: 0.9546 - val_accuracy: 0.9746\n",
      "Epoch 34/50\n",
      "60/60 [==============================] - 1s 9ms/step - loss: 0.0434 - accuracy: 0.9968 - val_loss: 0.9643 - val_accuracy: 0.9786\n",
      "Epoch 35/50\n",
      "60/60 [==============================] - 1s 9ms/step - loss: 0.0458 - accuracy: 0.9970 - val_loss: 0.8690 - val_accuracy: 0.9789\n",
      "Epoch 36/50\n",
      "60/60 [==============================] - 1s 9ms/step - loss: 0.0503 - accuracy: 0.9972 - val_loss: 0.9356 - val_accuracy: 0.9797\n",
      "Epoch 37/50\n",
      "60/60 [==============================] - 1s 9ms/step - loss: 0.0638 - accuracy: 0.9969 - val_loss: 0.8790 - val_accuracy: 0.9820\n",
      "Epoch 38/50\n",
      "60/60 [==============================] - 1s 10ms/step - loss: 0.0427 - accuracy: 0.9977 - val_loss: 1.0100 - val_accuracy: 0.9787\n",
      "Epoch 39/50\n",
      "60/60 [==============================] - 1s 9ms/step - loss: 0.0417 - accuracy: 0.9977 - val_loss: 1.0049 - val_accuracy: 0.9812\n",
      "Epoch 40/50\n",
      "60/60 [==============================] - 1s 9ms/step - loss: 0.0455 - accuracy: 0.9972 - val_loss: 1.0938 - val_accuracy: 0.9760\n",
      "Epoch 41/50\n",
      "60/60 [==============================] - 1s 9ms/step - loss: 0.0451 - accuracy: 0.9976 - val_loss: 0.9368 - val_accuracy: 0.9806\n",
      "Epoch 42/50\n",
      "60/60 [==============================] - 1s 10ms/step - loss: 0.0407 - accuracy: 0.9978 - val_loss: 0.9350 - val_accuracy: 0.9786\n",
      "Epoch 43/50\n",
      "60/60 [==============================] - 1s 9ms/step - loss: 0.0326 - accuracy: 0.9979 - val_loss: 0.9848 - val_accuracy: 0.9804\n",
      "Epoch 44/50\n",
      "60/60 [==============================] - 1s 9ms/step - loss: 0.0344 - accuracy: 0.9978 - val_loss: 0.9635 - val_accuracy: 0.9814\n",
      "Epoch 45/50\n",
      "60/60 [==============================] - 1s 9ms/step - loss: 0.0361 - accuracy: 0.9979 - val_loss: 0.9334 - val_accuracy: 0.9821\n",
      "Epoch 46/50\n",
      "60/60 [==============================] - 1s 9ms/step - loss: 0.0309 - accuracy: 0.9979 - val_loss: 0.9842 - val_accuracy: 0.9796\n",
      "Epoch 47/50\n",
      "60/60 [==============================] - 1s 9ms/step - loss: 0.0455 - accuracy: 0.9971 - val_loss: 1.0251 - val_accuracy: 0.9794\n",
      "Epoch 48/50\n",
      "60/60 [==============================] - 1s 9ms/step - loss: 0.0285 - accuracy: 0.9982 - val_loss: 1.1178 - val_accuracy: 0.9784\n",
      "Epoch 49/50\n",
      "60/60 [==============================] - 1s 9ms/step - loss: 0.0322 - accuracy: 0.9981 - val_loss: 0.9099 - val_accuracy: 0.9820\n",
      "Epoch 50/50\n",
      "60/60 [==============================] - 1s 9ms/step - loss: 0.0296 - accuracy: 0.9981 - val_loss: 1.0333 - val_accuracy: 0.9782\n"
     ]
    }
   ],
   "source": [
    "model.compile(loss='categorical_crossentropy',optimizer=RMSprop(learning_rate=0.001),metrics=['accuracy'])\n",
    "history2 = model.fit(X_train,Y_train, validation_data=(X_test,Y_test), batch_size=1000, epochs=50)"
   ]
  },
  {
   "cell_type": "code",
   "execution_count": 6,
   "metadata": {},
   "outputs": [
    {
     "name": "stdout",
     "output_type": "stream",
     "text": [
      "Epoch 1/50\n",
      "15/60 [======>.......................] - ETA: 0s - loss: 0.0224 - accuracy: 0.9986"
     ]
    },
    {
     "name": "stderr",
     "output_type": "stream",
     "text": [
      "2022-10-21 11:36:32.265898: I tensorflow/core/grappler/optimizers/custom_graph_optimizer_registry.cc:113] Plugin optimizer for device_type GPU is enabled.\n"
     ]
    },
    {
     "name": "stdout",
     "output_type": "stream",
     "text": [
      "60/60 [==============================] - 1s 10ms/step - loss: 0.0585 - accuracy: 0.9973 - val_loss: 1.1825 - val_accuracy: 0.9784\n",
      "Epoch 2/50\n",
      "15/60 [======>.......................] - ETA: 0s - loss: 0.1008 - accuracy: 0.9959"
     ]
    },
    {
     "name": "stderr",
     "output_type": "stream",
     "text": [
      "2022-10-21 11:36:32.867945: I tensorflow/core/grappler/optimizers/custom_graph_optimizer_registry.cc:113] Plugin optimizer for device_type GPU is enabled.\n"
     ]
    },
    {
     "name": "stdout",
     "output_type": "stream",
     "text": [
      "60/60 [==============================] - 1s 9ms/step - loss: 0.1019 - accuracy: 0.9954 - val_loss: 1.1780 - val_accuracy: 0.9763\n",
      "Epoch 3/50\n",
      "60/60 [==============================] - 1s 9ms/step - loss: 0.0700 - accuracy: 0.9965 - val_loss: 1.0199 - val_accuracy: 0.9787\n",
      "Epoch 4/50\n",
      "60/60 [==============================] - 1s 9ms/step - loss: 0.0613 - accuracy: 0.9973 - val_loss: 1.0611 - val_accuracy: 0.9786\n",
      "Epoch 5/50\n",
      "60/60 [==============================] - 1s 9ms/step - loss: 0.0557 - accuracy: 0.9970 - val_loss: 1.0675 - val_accuracy: 0.9804\n",
      "Epoch 6/50\n",
      "60/60 [==============================] - 1s 8ms/step - loss: 0.0580 - accuracy: 0.9971 - val_loss: 1.0701 - val_accuracy: 0.9785\n",
      "Epoch 7/50\n",
      "60/60 [==============================] - 1s 8ms/step - loss: 0.0642 - accuracy: 0.9967 - val_loss: 1.1314 - val_accuracy: 0.9798\n",
      "Epoch 8/50\n",
      "60/60 [==============================] - 1s 9ms/step - loss: 0.0533 - accuracy: 0.9973 - val_loss: 0.9755 - val_accuracy: 0.9797\n",
      "Epoch 9/50\n",
      "60/60 [==============================] - 1s 9ms/step - loss: 0.0652 - accuracy: 0.9964 - val_loss: 0.9695 - val_accuracy: 0.9817\n",
      "Epoch 10/50\n",
      "60/60 [==============================] - 1s 8ms/step - loss: 0.0607 - accuracy: 0.9973 - val_loss: 1.1056 - val_accuracy: 0.9813\n",
      "Epoch 11/50\n",
      "60/60 [==============================] - 1s 9ms/step - loss: 0.0481 - accuracy: 0.9976 - val_loss: 0.9700 - val_accuracy: 0.9818\n",
      "Epoch 12/50\n",
      "60/60 [==============================] - 1s 8ms/step - loss: 0.0518 - accuracy: 0.9972 - val_loss: 1.0492 - val_accuracy: 0.9797\n",
      "Epoch 13/50\n",
      "60/60 [==============================] - 1s 8ms/step - loss: 0.0415 - accuracy: 0.9977 - val_loss: 0.9483 - val_accuracy: 0.9814\n",
      "Epoch 14/50\n",
      "60/60 [==============================] - 1s 9ms/step - loss: 0.0429 - accuracy: 0.9980 - val_loss: 1.0089 - val_accuracy: 0.9805\n",
      "Epoch 15/50\n",
      "60/60 [==============================] - 1s 8ms/step - loss: 0.0381 - accuracy: 0.9979 - val_loss: 1.0124 - val_accuracy: 0.9810\n",
      "Epoch 16/50\n",
      "60/60 [==============================] - 1s 9ms/step - loss: 0.0423 - accuracy: 0.9977 - val_loss: 1.1380 - val_accuracy: 0.9789\n",
      "Epoch 17/50\n",
      "60/60 [==============================] - 1s 9ms/step - loss: 0.0427 - accuracy: 0.9979 - val_loss: 1.0327 - val_accuracy: 0.9817\n",
      "Epoch 18/50\n",
      "60/60 [==============================] - 1s 9ms/step - loss: 0.0351 - accuracy: 0.9982 - val_loss: 0.9949 - val_accuracy: 0.9821\n",
      "Epoch 19/50\n",
      "60/60 [==============================] - 1s 9ms/step - loss: 0.0365 - accuracy: 0.9979 - val_loss: 1.1089 - val_accuracy: 0.9792\n",
      "Epoch 20/50\n",
      "60/60 [==============================] - 1s 9ms/step - loss: 0.0368 - accuracy: 0.9980 - val_loss: 1.1931 - val_accuracy: 0.9802\n",
      "Epoch 21/50\n",
      "60/60 [==============================] - 1s 9ms/step - loss: 0.0384 - accuracy: 0.9982 - val_loss: 1.2538 - val_accuracy: 0.9785\n",
      "Epoch 22/50\n",
      "60/60 [==============================] - 1s 9ms/step - loss: 0.0387 - accuracy: 0.9979 - val_loss: 1.1754 - val_accuracy: 0.9789\n",
      "Epoch 23/50\n",
      "60/60 [==============================] - 1s 9ms/step - loss: 0.0355 - accuracy: 0.9981 - val_loss: 1.1737 - val_accuracy: 0.9800\n",
      "Epoch 24/50\n",
      "60/60 [==============================] - 1s 9ms/step - loss: 0.0414 - accuracy: 0.9980 - val_loss: 1.1000 - val_accuracy: 0.9806\n",
      "Epoch 25/50\n",
      "60/60 [==============================] - 1s 9ms/step - loss: 0.0541 - accuracy: 0.9978 - val_loss: 1.1952 - val_accuracy: 0.9788\n",
      "Epoch 26/50\n",
      "60/60 [==============================] - 1s 9ms/step - loss: 0.0463 - accuracy: 0.9977 - val_loss: 1.0889 - val_accuracy: 0.9801\n",
      "Epoch 27/50\n",
      "60/60 [==============================] - 1s 9ms/step - loss: 0.0258 - accuracy: 0.9985 - val_loss: 1.1672 - val_accuracy: 0.9792\n",
      "Epoch 28/50\n",
      "60/60 [==============================] - 1s 9ms/step - loss: 0.0226 - accuracy: 0.9985 - val_loss: 1.0102 - val_accuracy: 0.9827\n",
      "Epoch 29/50\n",
      "60/60 [==============================] - 1s 9ms/step - loss: 0.0392 - accuracy: 0.9982 - val_loss: 1.1727 - val_accuracy: 0.9801\n",
      "Epoch 30/50\n",
      "60/60 [==============================] - 1s 9ms/step - loss: 0.0514 - accuracy: 0.9981 - val_loss: 1.1788 - val_accuracy: 0.9810\n",
      "Epoch 31/50\n",
      "60/60 [==============================] - 1s 9ms/step - loss: 0.0319 - accuracy: 0.9985 - val_loss: 1.1330 - val_accuracy: 0.9819\n",
      "Epoch 32/50\n",
      "60/60 [==============================] - 1s 9ms/step - loss: 0.0376 - accuracy: 0.9980 - val_loss: 1.1615 - val_accuracy: 0.9792\n",
      "Epoch 33/50\n",
      "60/60 [==============================] - 1s 9ms/step - loss: 0.0408 - accuracy: 0.9981 - val_loss: 1.1039 - val_accuracy: 0.9792\n",
      "Epoch 34/50\n",
      "60/60 [==============================] - 1s 9ms/step - loss: 0.0296 - accuracy: 0.9985 - val_loss: 1.1679 - val_accuracy: 0.9790\n",
      "Epoch 35/50\n",
      "60/60 [==============================] - 1s 9ms/step - loss: 0.0300 - accuracy: 0.9983 - val_loss: 1.3640 - val_accuracy: 0.9779\n",
      "Epoch 36/50\n",
      "60/60 [==============================] - 1s 9ms/step - loss: 0.0374 - accuracy: 0.9981 - val_loss: 1.1305 - val_accuracy: 0.9818\n",
      "Epoch 37/50\n",
      "60/60 [==============================] - 1s 9ms/step - loss: 0.0280 - accuracy: 0.9986 - val_loss: 1.1836 - val_accuracy: 0.9824\n",
      "Epoch 38/50\n",
      "60/60 [==============================] - 1s 9ms/step - loss: 0.0258 - accuracy: 0.9985 - val_loss: 1.1073 - val_accuracy: 0.9810\n",
      "Epoch 39/50\n",
      "60/60 [==============================] - 1s 8ms/step - loss: 0.0301 - accuracy: 0.9985 - val_loss: 1.1394 - val_accuracy: 0.9810\n",
      "Epoch 40/50\n",
      "60/60 [==============================] - 1s 9ms/step - loss: 0.0404 - accuracy: 0.9982 - val_loss: 1.2232 - val_accuracy: 0.9790\n",
      "Epoch 41/50\n",
      "60/60 [==============================] - 1s 9ms/step - loss: 0.0261 - accuracy: 0.9986 - val_loss: 1.1307 - val_accuracy: 0.9828\n",
      "Epoch 42/50\n",
      "60/60 [==============================] - 1s 8ms/step - loss: 0.0330 - accuracy: 0.9983 - val_loss: 1.1743 - val_accuracy: 0.9825\n",
      "Epoch 43/50\n",
      "60/60 [==============================] - 1s 9ms/step - loss: 0.0372 - accuracy: 0.9985 - val_loss: 1.0727 - val_accuracy: 0.9820\n",
      "Epoch 44/50\n",
      "60/60 [==============================] - 1s 8ms/step - loss: 0.0375 - accuracy: 0.9983 - val_loss: 1.2445 - val_accuracy: 0.9796\n",
      "Epoch 45/50\n",
      "60/60 [==============================] - 1s 8ms/step - loss: 0.0647 - accuracy: 0.9974 - val_loss: 1.3556 - val_accuracy: 0.9801\n",
      "Epoch 46/50\n",
      "60/60 [==============================] - 1s 8ms/step - loss: 0.0438 - accuracy: 0.9983 - val_loss: 1.3502 - val_accuracy: 0.9791\n",
      "Epoch 47/50\n",
      "60/60 [==============================] - 1s 9ms/step - loss: 0.0483 - accuracy: 0.9980 - val_loss: 1.2938 - val_accuracy: 0.9805\n",
      "Epoch 48/50\n",
      "60/60 [==============================] - 1s 9ms/step - loss: 0.0300 - accuracy: 0.9985 - val_loss: 1.2894 - val_accuracy: 0.9813\n",
      "Epoch 49/50\n",
      "60/60 [==============================] - 1s 9ms/step - loss: 0.0236 - accuracy: 0.9989 - val_loss: 1.3038 - val_accuracy: 0.9829\n",
      "Epoch 50/50\n",
      "60/60 [==============================] - 1s 8ms/step - loss: 0.0366 - accuracy: 0.9984 - val_loss: 1.3373 - val_accuracy: 0.9817\n"
     ]
    }
   ],
   "source": [
    "model.compile(loss='categorical_crossentropy',optimizer=Adam(learning_rate=0.001),metrics=['accuracy'])\n",
    "history3 = model.fit(X_train,Y_train, validation_data=(X_test,Y_test), batch_size=1000, epochs=50)"
   ]
  },
  {
   "cell_type": "code",
   "execution_count": 7,
   "metadata": {},
   "outputs": [
    {
     "name": "stdout",
     "output_type": "stream",
     "text": [
      "Epoch 1/50\n"
     ]
    },
    {
     "ename": "",
     "evalue": "",
     "output_type": "error",
     "traceback": [
      "\u001b[1;31mThe Kernel crashed while executing code in the the current cell or a previous cell. Please review the code in the cell(s) to identify a possible cause of the failure. Click <a href='https://aka.ms/vscodeJupyterKernelCrash'>here</a> for more info. View Jupyter <a href='command:jupyter.viewOutput'>log</a> for further details."
     ]
    },
    {
     "ename": "",
     "evalue": "",
     "output_type": "error",
     "traceback": [
      "\u001b[1;31mCanceled future for execute_request message before replies were done"
     ]
    }
   ],
   "source": [
    "model.compile(loss='categorical_crossentropy',optimizer=SGD(learning_rate=0.001, momentum=0.99),metrics=['accuracy'])\n",
    "history4 = model.fit(X_train,Y_train, validation_data=(X_test,Y_test), batch_size=1000, epochs=50)"
   ]
  }
 ],
 "metadata": {
  "kernelspec": {
   "display_name": "Python 3.9.13 ('tf')",
   "language": "python",
   "name": "python3"
  },
  "language_info": {
   "codemirror_mode": {
    "name": "ipython",
    "version": 3
   },
   "file_extension": ".py",
   "mimetype": "text/x-python",
   "name": "python",
   "nbconvert_exporter": "python",
   "pygments_lexer": "ipython3",
   "version": "3.9.13"
  },
  "vscode": {
   "interpreter": {
    "hash": "ee3717197db56dab91ad083a26bef10706ce761f0ab8e349ac843a6f8d1f4192"
   }
  }
 },
 "nbformat": 4,
 "nbformat_minor": 2
}
