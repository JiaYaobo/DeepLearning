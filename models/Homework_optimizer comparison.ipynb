{
 "cells": [
  {
   "cell_type": "markdown",
   "metadata": {},
   "source": [
    "### 几中不同优化算法的比较"
   ]
  },
  {
   "cell_type": "code",
   "execution_count": 1,
   "metadata": {},
   "outputs": [],
   "source": [
    "# 载入必要的函数库\n",
    "import numpy as np\n",
    "import matplotlib.pyplot as plt\n",
    "\n",
    "import tensorflow as tf\n",
    "from keras import Model\n",
    "from keras.layers import Dense,Flatten,Input\n",
    "from keras.optimizers import SGD,RMSprop,Adam\n",
    "\n",
    "from keras.utils import to_categorical "
   ]
  },
  {
   "cell_type": "code",
   "execution_count": 2,
   "metadata": {},
   "outputs": [
    {
     "name": "stdout",
     "output_type": "stream",
     "text": [
      "(60000, 10)\n",
      "[0. 0. 0. 0. 0. 1. 0. 0. 0. 0.]\n"
     ]
    }
   ],
   "source": [
    "## 载入mnist数据集\n",
    "mnist = tf.keras.datasets.mnist\n",
    "(X_train, y_train), (X_test, y_test) = mnist.load_data() \n",
    "\n",
    "## 转换为one - hot型向量\n",
    "Y_train=to_categorical(y_train)\n",
    "Y_test=to_categorical(y_test)\n",
    "\n",
    "print(Y_train.shape)\n",
    "print(Y_train[0])"
   ]
  },
  {
   "cell_type": "code",
   "execution_count": 3,
   "metadata": {},
   "outputs": [
    {
     "name": "stdout",
     "output_type": "stream",
     "text": [
      "Metal device set to: Apple M1 Pro\n",
      "\n",
      "systemMemory: 32.00 GB\n",
      "maxCacheSize: 10.67 GB\n",
      "\n",
      "Model: \"model\"\n",
      "_________________________________________________________________\n",
      " Layer (type)                Output Shape              Param #   \n",
      "=================================================================\n",
      " input_1 (InputLayer)        [(None, 28, 28)]          0         \n",
      "                                                                 \n",
      " flatten (Flatten)           (None, 784)               0         \n",
      "                                                                 \n",
      " dense (Dense)               (None, 1000)              785000    \n",
      "                                                                 \n",
      " dense_1 (Dense)             (None, 10)                10010     \n",
      "                                                                 \n",
      "=================================================================\n",
      "Total params: 795,010\n",
      "Trainable params: 795,010\n",
      "Non-trainable params: 0\n",
      "_________________________________________________________________\n",
      "Epoch 1/50\n"
     ]
    },
    {
     "name": "stderr",
     "output_type": "stream",
     "text": [
      "2022-10-21 17:40:47.282281: I tensorflow/core/common_runtime/pluggable_device/pluggable_device_factory.cc:305] Could not identify NUMA node of platform GPU ID 0, defaulting to 0. Your kernel may not have been built with NUMA support.\n",
      "2022-10-21 17:40:47.282433: I tensorflow/core/common_runtime/pluggable_device/pluggable_device_factory.cc:271] Created TensorFlow device (/job:localhost/replica:0/task:0/device:GPU:0 with 0 MB memory) -> physical PluggableDevice (device: 0, name: METAL, pci bus id: <undefined>)\n",
      "/opt/miniconda3/envs/tf/lib/python3.9/site-packages/keras/optimizers/optimizer_v2/gradient_descent.py:108: UserWarning: The `lr` argument is deprecated, use `learning_rate` instead.\n",
      "  super(SGD, self).__init__(name, **kwargs)\n",
      "2022-10-21 17:40:47.379553: W tensorflow/core/platform/profile_utils/cpu_utils.cc:128] Failed to get CPU frequency: 0 Hz\n"
     ]
    },
    {
     "name": "stdout",
     "output_type": "stream",
     "text": [
      "11/60 [====>.........................] - ETA: 0s - loss: 120.0552 - accuracy: 0.5024"
     ]
    },
    {
     "name": "stderr",
     "output_type": "stream",
     "text": [
      "2022-10-21 17:40:47.541354: I tensorflow/core/grappler/optimizers/custom_graph_optimizer_registry.cc:113] Plugin optimizer for device_type GPU is enabled.\n"
     ]
    },
    {
     "name": "stdout",
     "output_type": "stream",
     "text": [
      "60/60 [==============================] - 1s 11ms/step - loss: 25.6944 - accuracy: 0.8009 - val_loss: 2.8169 - val_accuracy: 0.8921\n",
      "Epoch 2/50\n",
      "13/60 [=====>........................] - ETA: 0s - loss: 2.6283 - accuracy: 0.8938"
     ]
    },
    {
     "name": "stderr",
     "output_type": "stream",
     "text": [
      "2022-10-21 17:40:48.198381: I tensorflow/core/grappler/optimizers/custom_graph_optimizer_registry.cc:113] Plugin optimizer for device_type GPU is enabled.\n"
     ]
    },
    {
     "name": "stdout",
     "output_type": "stream",
     "text": [
      "60/60 [==============================] - 1s 9ms/step - loss: 2.2349 - accuracy: 0.9034 - val_loss: 1.9130 - val_accuracy: 0.9114\n",
      "Epoch 3/50\n",
      "60/60 [==============================] - 1s 9ms/step - loss: 1.5111 - accuracy: 0.9216 - val_loss: 1.5523 - val_accuracy: 0.9217\n",
      "Epoch 4/50\n",
      "60/60 [==============================] - 1s 9ms/step - loss: 1.1494 - accuracy: 0.9325 - val_loss: 1.3505 - val_accuracy: 0.9279\n",
      "Epoch 5/50\n",
      "60/60 [==============================] - 1s 9ms/step - loss: 0.9115 - accuracy: 0.9414 - val_loss: 1.2189 - val_accuracy: 0.9308\n",
      "Epoch 6/50\n",
      "60/60 [==============================] - 1s 9ms/step - loss: 0.7423 - accuracy: 0.9477 - val_loss: 1.1407 - val_accuracy: 0.9340\n",
      "Epoch 7/50\n",
      "60/60 [==============================] - 1s 9ms/step - loss: 0.6207 - accuracy: 0.9531 - val_loss: 1.0747 - val_accuracy: 0.9351\n",
      "Epoch 8/50\n",
      "60/60 [==============================] - 1s 9ms/step - loss: 0.5251 - accuracy: 0.9587 - val_loss: 1.0214 - val_accuracy: 0.9372\n",
      "Epoch 9/50\n",
      "60/60 [==============================] - 1s 9ms/step - loss: 0.4481 - accuracy: 0.9615 - val_loss: 0.9770 - val_accuracy: 0.9382\n",
      "Epoch 10/50\n",
      "60/60 [==============================] - 1s 9ms/step - loss: 0.3830 - accuracy: 0.9668 - val_loss: 0.9532 - val_accuracy: 0.9379\n",
      "Epoch 11/50\n",
      "60/60 [==============================] - 1s 9ms/step - loss: 0.3315 - accuracy: 0.9684 - val_loss: 0.9204 - val_accuracy: 0.9395\n",
      "Epoch 12/50\n",
      "60/60 [==============================] - 1s 9ms/step - loss: 0.2866 - accuracy: 0.9732 - val_loss: 0.8993 - val_accuracy: 0.9386\n",
      "Epoch 13/50\n",
      "60/60 [==============================] - 1s 9ms/step - loss: 0.2493 - accuracy: 0.9750 - val_loss: 0.8721 - val_accuracy: 0.9408\n",
      "Epoch 14/50\n",
      "60/60 [==============================] - 1s 9ms/step - loss: 0.2183 - accuracy: 0.9780 - val_loss: 0.8589 - val_accuracy: 0.9411\n",
      "Epoch 15/50\n",
      "60/60 [==============================] - 1s 9ms/step - loss: 0.1927 - accuracy: 0.9793 - val_loss: 0.8449 - val_accuracy: 0.9417\n",
      "Epoch 16/50\n",
      "60/60 [==============================] - 1s 9ms/step - loss: 0.1672 - accuracy: 0.9818 - val_loss: 0.8438 - val_accuracy: 0.9414\n",
      "Epoch 17/50\n",
      "60/60 [==============================] - 1s 9ms/step - loss: 0.1483 - accuracy: 0.9837 - val_loss: 0.8301 - val_accuracy: 0.9420\n",
      "Epoch 18/50\n",
      "60/60 [==============================] - 1s 9ms/step - loss: 0.1297 - accuracy: 0.9857 - val_loss: 0.8189 - val_accuracy: 0.9417\n",
      "Epoch 19/50\n",
      "60/60 [==============================] - 1s 9ms/step - loss: 0.1147 - accuracy: 0.9872 - val_loss: 0.8131 - val_accuracy: 0.9417\n",
      "Epoch 20/50\n",
      "60/60 [==============================] - 1s 9ms/step - loss: 0.1010 - accuracy: 0.9883 - val_loss: 0.8113 - val_accuracy: 0.9427\n",
      "Epoch 21/50\n",
      "60/60 [==============================] - 1s 9ms/step - loss: 0.0895 - accuracy: 0.9895 - val_loss: 0.8026 - val_accuracy: 0.9425\n",
      "Epoch 22/50\n",
      "60/60 [==============================] - 1s 9ms/step - loss: 0.0788 - accuracy: 0.9912 - val_loss: 0.7949 - val_accuracy: 0.9429\n",
      "Epoch 23/50\n",
      "60/60 [==============================] - 1s 9ms/step - loss: 0.0699 - accuracy: 0.9924 - val_loss: 0.7910 - val_accuracy: 0.9427\n",
      "Epoch 24/50\n",
      "60/60 [==============================] - 1s 9ms/step - loss: 0.0619 - accuracy: 0.9932 - val_loss: 0.7885 - val_accuracy: 0.9430\n",
      "Epoch 25/50\n",
      "60/60 [==============================] - 1s 10ms/step - loss: 0.0542 - accuracy: 0.9942 - val_loss: 0.7845 - val_accuracy: 0.9429\n",
      "Epoch 26/50\n",
      "60/60 [==============================] - 1s 9ms/step - loss: 0.0481 - accuracy: 0.9947 - val_loss: 0.7853 - val_accuracy: 0.9431\n",
      "Epoch 27/50\n",
      "60/60 [==============================] - 1s 9ms/step - loss: 0.0429 - accuracy: 0.9952 - val_loss: 0.7791 - val_accuracy: 0.9442\n",
      "Epoch 28/50\n",
      "60/60 [==============================] - 1s 9ms/step - loss: 0.0377 - accuracy: 0.9961 - val_loss: 0.7778 - val_accuracy: 0.9433\n",
      "Epoch 29/50\n",
      "60/60 [==============================] - 1s 9ms/step - loss: 0.0336 - accuracy: 0.9965 - val_loss: 0.7736 - val_accuracy: 0.9439\n",
      "Epoch 30/50\n",
      "60/60 [==============================] - 1s 9ms/step - loss: 0.0301 - accuracy: 0.9968 - val_loss: 0.7719 - val_accuracy: 0.9439\n",
      "Epoch 31/50\n",
      "60/60 [==============================] - 1s 9ms/step - loss: 0.0265 - accuracy: 0.9975 - val_loss: 0.7707 - val_accuracy: 0.9448\n",
      "Epoch 32/50\n",
      "60/60 [==============================] - 1s 9ms/step - loss: 0.0236 - accuracy: 0.9976 - val_loss: 0.7704 - val_accuracy: 0.9439\n",
      "Epoch 33/50\n",
      "60/60 [==============================] - 1s 9ms/step - loss: 0.0211 - accuracy: 0.9978 - val_loss: 0.7685 - val_accuracy: 0.9444\n",
      "Epoch 34/50\n",
      "60/60 [==============================] - 1s 9ms/step - loss: 0.0188 - accuracy: 0.9982 - val_loss: 0.7650 - val_accuracy: 0.9445\n",
      "Epoch 35/50\n",
      "60/60 [==============================] - 1s 9ms/step - loss: 0.0167 - accuracy: 0.9983 - val_loss: 0.7630 - val_accuracy: 0.9448\n",
      "Epoch 36/50\n",
      "60/60 [==============================] - 1s 9ms/step - loss: 0.0148 - accuracy: 0.9986 - val_loss: 0.7616 - val_accuracy: 0.9442\n",
      "Epoch 37/50\n",
      "60/60 [==============================] - 1s 9ms/step - loss: 0.0131 - accuracy: 0.9988 - val_loss: 0.7612 - val_accuracy: 0.9438\n",
      "Epoch 38/50\n",
      "60/60 [==============================] - 1s 9ms/step - loss: 0.0117 - accuracy: 0.9990 - val_loss: 0.7609 - val_accuracy: 0.9447\n",
      "Epoch 39/50\n",
      "60/60 [==============================] - 1s 9ms/step - loss: 0.0105 - accuracy: 0.9991 - val_loss: 0.7589 - val_accuracy: 0.9447\n",
      "Epoch 40/50\n",
      "60/60 [==============================] - 1s 9ms/step - loss: 0.0092 - accuracy: 0.9993 - val_loss: 0.7580 - val_accuracy: 0.9449\n",
      "Epoch 41/50\n",
      "60/60 [==============================] - 1s 9ms/step - loss: 0.0084 - accuracy: 0.9993 - val_loss: 0.7579 - val_accuracy: 0.9445\n",
      "Epoch 42/50\n",
      "60/60 [==============================] - 1s 9ms/step - loss: 0.0075 - accuracy: 0.9994 - val_loss: 0.7568 - val_accuracy: 0.9447\n",
      "Epoch 43/50\n",
      "60/60 [==============================] - 1s 9ms/step - loss: 0.0067 - accuracy: 0.9995 - val_loss: 0.7552 - val_accuracy: 0.9449\n",
      "Epoch 44/50\n",
      "60/60 [==============================] - 1s 9ms/step - loss: 0.0060 - accuracy: 0.9996 - val_loss: 0.7544 - val_accuracy: 0.9451\n",
      "Epoch 45/50\n",
      "60/60 [==============================] - 1s 10ms/step - loss: 0.0054 - accuracy: 0.9996 - val_loss: 0.7543 - val_accuracy: 0.9449\n",
      "Epoch 46/50\n",
      "60/60 [==============================] - 1s 9ms/step - loss: 0.0048 - accuracy: 0.9996 - val_loss: 0.7533 - val_accuracy: 0.9449\n",
      "Epoch 47/50\n",
      "60/60 [==============================] - 1s 9ms/step - loss: 0.0043 - accuracy: 0.9997 - val_loss: 0.7525 - val_accuracy: 0.9451\n",
      "Epoch 48/50\n",
      "60/60 [==============================] - 1s 9ms/step - loss: 0.0038 - accuracy: 0.9997 - val_loss: 0.7543 - val_accuracy: 0.9449\n",
      "Epoch 49/50\n",
      "60/60 [==============================] - 1s 9ms/step - loss: 0.0034 - accuracy: 0.9998 - val_loss: 0.7532 - val_accuracy: 0.9448\n",
      "Epoch 50/50\n",
      "60/60 [==============================] - 1s 9ms/step - loss: 0.0031 - accuracy: 0.9998 - val_loss: 0.7516 - val_accuracy: 0.9450\n"
     ]
    }
   ],
   "source": [
    "'''\n",
    " 实验：构建 Multi-layer Nueral Network 模型 \n",
    "'''\n",
    "\n",
    "##  第一步  创建模型结构 ##\n",
    "\n",
    "IMSIZE = 28                                               \n",
    "input_layer = Input([IMSIZE,IMSIZE])       # MNIST图像为28*28的单层图片\n",
    "x = input_layer                              \n",
    "x = Flatten()(input_layer)                   # 将28*28*1的Tensor拉直为784维向量\n",
    "x = Dense(1000,activation = 'relu')(x)       # 全连接到1000个节点，并采用relu激活函数\n",
    "x = Dense(10,activation = 'softmax')(x)      # 全连接到10个节点，并采用softmax激活函数转化为(0,1)取值\n",
    "output_layer=x\n",
    "model=Model(input_layer,output_layer)    # Model函数将input_layer 和 output_layer中间的部分连接起来\n",
    "model.summary()\n",
    "\n",
    "##  第二步  模型编译 ##\n",
    "\n",
    "model.compile(loss='categorical_crossentropy',optimizer=SGD(lr=0.001),metrics=['accuracy'])\n",
    "\n",
    "##  第三步  模型拟合 ##\n",
    "\n",
    "history1 = model.fit(X_train,Y_train, validation_data=(X_test,Y_test), batch_size=1000, epochs=50)\n",
    "\n",
    "# 第四部  提取loss指标\n",
    "# model.fit会返回一个history对象，里面记录了训练集和测试集的loss以及acc\n",
    "# 我们将这些指标取出，绘制折线图\n",
    "\n",
    "train_loss1 = history1.history[\"loss\"]"
   ]
  },
  {
   "cell_type": "markdown",
   "metadata": {},
   "source": [
    "### 请编写出Momentum、RMSprop和Adam优化算法下的train loss情况，并将四种优化算法绘制在一张折线图下，如下"
   ]
  },
  {
   "cell_type": "code",
   "execution_count": 5,
   "metadata": {},
   "outputs": [
    {
     "name": "stdout",
     "output_type": "stream",
     "text": [
      "Epoch 1/50\n",
      " 4/60 [=>............................] - ETA: 0s - loss: 74.0287 - accuracy: 0.5860"
     ]
    },
    {
     "name": "stderr",
     "output_type": "stream",
     "text": [
      "2022-10-21 11:35:59.707344: I tensorflow/core/grappler/optimizers/custom_graph_optimizer_registry.cc:113] Plugin optimizer for device_type GPU is enabled.\n"
     ]
    },
    {
     "name": "stdout",
     "output_type": "stream",
     "text": [
      "60/60 [==============================] - 1s 13ms/step - loss: 8.3954 - accuracy: 0.8946 - val_loss: 1.8227 - val_accuracy: 0.9224\n",
      "Epoch 2/50\n",
      "15/60 [======>.......................] - ETA: 0s - loss: 1.3910 - accuracy: 0.9369"
     ]
    },
    {
     "name": "stderr",
     "output_type": "stream",
     "text": [
      "2022-10-21 11:36:00.514427: I tensorflow/core/grappler/optimizers/custom_graph_optimizer_registry.cc:113] Plugin optimizer for device_type GPU is enabled.\n"
     ]
    },
    {
     "name": "stdout",
     "output_type": "stream",
     "text": [
      "60/60 [==============================] - 1s 9ms/step - loss: 0.8634 - accuracy: 0.9490 - val_loss: 1.4014 - val_accuracy: 0.9000\n",
      "Epoch 3/50\n",
      "60/60 [==============================] - 1s 9ms/step - loss: 0.4418 - accuracy: 0.9621 - val_loss: 0.7595 - val_accuracy: 0.9448\n",
      "Epoch 4/50\n",
      "60/60 [==============================] - 1s 9ms/step - loss: 0.3081 - accuracy: 0.9722 - val_loss: 0.6038 - val_accuracy: 0.9539\n",
      "Epoch 5/50\n",
      "60/60 [==============================] - 1s 9ms/step - loss: 0.2213 - accuracy: 0.9790 - val_loss: 0.4581 - val_accuracy: 0.9727\n",
      "Epoch 6/50\n",
      "60/60 [==============================] - 1s 9ms/step - loss: 0.1885 - accuracy: 0.9828 - val_loss: 0.5047 - val_accuracy: 0.9685\n",
      "Epoch 7/50\n",
      "60/60 [==============================] - 1s 9ms/step - loss: 0.1765 - accuracy: 0.9845 - val_loss: 0.6050 - val_accuracy: 0.9689\n",
      "Epoch 8/50\n",
      "60/60 [==============================] - 1s 9ms/step - loss: 0.1580 - accuracy: 0.9863 - val_loss: 0.5439 - val_accuracy: 0.9708\n",
      "Epoch 9/50\n",
      "60/60 [==============================] - 1s 9ms/step - loss: 0.1299 - accuracy: 0.9884 - val_loss: 0.5841 - val_accuracy: 0.9721\n",
      "Epoch 10/50\n",
      "60/60 [==============================] - 1s 9ms/step - loss: 0.1061 - accuracy: 0.9898 - val_loss: 0.5171 - val_accuracy: 0.9754\n",
      "Epoch 11/50\n",
      "60/60 [==============================] - 1s 9ms/step - loss: 0.1110 - accuracy: 0.9904 - val_loss: 0.5633 - val_accuracy: 0.9744\n",
      "Epoch 12/50\n",
      "60/60 [==============================] - 1s 9ms/step - loss: 0.1030 - accuracy: 0.9914 - val_loss: 0.5831 - val_accuracy: 0.9751\n",
      "Epoch 13/50\n",
      "60/60 [==============================] - 1s 9ms/step - loss: 0.0962 - accuracy: 0.9920 - val_loss: 0.6925 - val_accuracy: 0.9722\n",
      "Epoch 14/50\n",
      "60/60 [==============================] - 1s 9ms/step - loss: 0.0936 - accuracy: 0.9926 - val_loss: 0.5708 - val_accuracy: 0.9776\n",
      "Epoch 15/50\n",
      "60/60 [==============================] - 1s 9ms/step - loss: 0.0991 - accuracy: 0.9928 - val_loss: 0.7470 - val_accuracy: 0.9718\n",
      "Epoch 16/50\n",
      "60/60 [==============================] - 1s 9ms/step - loss: 0.0944 - accuracy: 0.9935 - val_loss: 0.6597 - val_accuracy: 0.9774\n",
      "Epoch 17/50\n",
      "60/60 [==============================] - 1s 9ms/step - loss: 0.0786 - accuracy: 0.9937 - val_loss: 0.6492 - val_accuracy: 0.9786\n",
      "Epoch 18/50\n",
      "60/60 [==============================] - 1s 9ms/step - loss: 0.0718 - accuracy: 0.9945 - val_loss: 0.7199 - val_accuracy: 0.9769\n",
      "Epoch 19/50\n",
      "60/60 [==============================] - 1s 9ms/step - loss: 0.0715 - accuracy: 0.9948 - val_loss: 0.7481 - val_accuracy: 0.9765\n",
      "Epoch 20/50\n",
      "60/60 [==============================] - 1s 9ms/step - loss: 0.0786 - accuracy: 0.9947 - val_loss: 0.7448 - val_accuracy: 0.9761\n",
      "Epoch 21/50\n",
      "60/60 [==============================] - 1s 9ms/step - loss: 0.0607 - accuracy: 0.9959 - val_loss: 0.8416 - val_accuracy: 0.9744\n",
      "Epoch 22/50\n",
      "60/60 [==============================] - 1s 9ms/step - loss: 0.0723 - accuracy: 0.9948 - val_loss: 0.6126 - val_accuracy: 0.9807\n",
      "Epoch 23/50\n",
      "60/60 [==============================] - 1s 9ms/step - loss: 0.0679 - accuracy: 0.9951 - val_loss: 0.6511 - val_accuracy: 0.9797\n",
      "Epoch 24/50\n",
      "60/60 [==============================] - 1s 9ms/step - loss: 0.0725 - accuracy: 0.9954 - val_loss: 0.7500 - val_accuracy: 0.9763\n",
      "Epoch 25/50\n",
      "60/60 [==============================] - 1s 9ms/step - loss: 0.0642 - accuracy: 0.9958 - val_loss: 0.7611 - val_accuracy: 0.9786\n",
      "Epoch 26/50\n",
      "60/60 [==============================] - 1s 9ms/step - loss: 0.0623 - accuracy: 0.9958 - val_loss: 0.8149 - val_accuracy: 0.9782\n",
      "Epoch 27/50\n",
      "60/60 [==============================] - 1s 10ms/step - loss: 0.0593 - accuracy: 0.9962 - val_loss: 0.7607 - val_accuracy: 0.9792\n",
      "Epoch 28/50\n",
      "60/60 [==============================] - 1s 9ms/step - loss: 0.0611 - accuracy: 0.9961 - val_loss: 0.8382 - val_accuracy: 0.9757\n",
      "Epoch 29/50\n",
      "60/60 [==============================] - 1s 9ms/step - loss: 0.0557 - accuracy: 0.9965 - val_loss: 0.9097 - val_accuracy: 0.9761\n",
      "Epoch 30/50\n",
      "60/60 [==============================] - 1s 9ms/step - loss: 0.0610 - accuracy: 0.9961 - val_loss: 0.8354 - val_accuracy: 0.9787\n",
      "Epoch 31/50\n",
      "60/60 [==============================] - 1s 9ms/step - loss: 0.0528 - accuracy: 0.9966 - val_loss: 0.8240 - val_accuracy: 0.9796\n",
      "Epoch 32/50\n",
      "60/60 [==============================] - 1s 10ms/step - loss: 0.0407 - accuracy: 0.9970 - val_loss: 0.8482 - val_accuracy: 0.9812\n",
      "Epoch 33/50\n",
      "60/60 [==============================] - 1s 9ms/step - loss: 0.0360 - accuracy: 0.9975 - val_loss: 0.9546 - val_accuracy: 0.9746\n",
      "Epoch 34/50\n",
      "60/60 [==============================] - 1s 9ms/step - loss: 0.0434 - accuracy: 0.9968 - val_loss: 0.9643 - val_accuracy: 0.9786\n",
      "Epoch 35/50\n",
      "60/60 [==============================] - 1s 9ms/step - loss: 0.0458 - accuracy: 0.9970 - val_loss: 0.8690 - val_accuracy: 0.9789\n",
      "Epoch 36/50\n",
      "60/60 [==============================] - 1s 9ms/step - loss: 0.0503 - accuracy: 0.9972 - val_loss: 0.9356 - val_accuracy: 0.9797\n",
      "Epoch 37/50\n",
      "60/60 [==============================] - 1s 9ms/step - loss: 0.0638 - accuracy: 0.9969 - val_loss: 0.8790 - val_accuracy: 0.9820\n",
      "Epoch 38/50\n",
      "60/60 [==============================] - 1s 10ms/step - loss: 0.0427 - accuracy: 0.9977 - val_loss: 1.0100 - val_accuracy: 0.9787\n",
      "Epoch 39/50\n",
      "60/60 [==============================] - 1s 9ms/step - loss: 0.0417 - accuracy: 0.9977 - val_loss: 1.0049 - val_accuracy: 0.9812\n",
      "Epoch 40/50\n",
      "60/60 [==============================] - 1s 9ms/step - loss: 0.0455 - accuracy: 0.9972 - val_loss: 1.0938 - val_accuracy: 0.9760\n",
      "Epoch 41/50\n",
      "60/60 [==============================] - 1s 9ms/step - loss: 0.0451 - accuracy: 0.9976 - val_loss: 0.9368 - val_accuracy: 0.9806\n",
      "Epoch 42/50\n",
      "60/60 [==============================] - 1s 10ms/step - loss: 0.0407 - accuracy: 0.9978 - val_loss: 0.9350 - val_accuracy: 0.9786\n",
      "Epoch 43/50\n",
      "60/60 [==============================] - 1s 9ms/step - loss: 0.0326 - accuracy: 0.9979 - val_loss: 0.9848 - val_accuracy: 0.9804\n",
      "Epoch 44/50\n",
      "60/60 [==============================] - 1s 9ms/step - loss: 0.0344 - accuracy: 0.9978 - val_loss: 0.9635 - val_accuracy: 0.9814\n",
      "Epoch 45/50\n",
      "60/60 [==============================] - 1s 9ms/step - loss: 0.0361 - accuracy: 0.9979 - val_loss: 0.9334 - val_accuracy: 0.9821\n",
      "Epoch 46/50\n",
      "60/60 [==============================] - 1s 9ms/step - loss: 0.0309 - accuracy: 0.9979 - val_loss: 0.9842 - val_accuracy: 0.9796\n",
      "Epoch 47/50\n",
      "60/60 [==============================] - 1s 9ms/step - loss: 0.0455 - accuracy: 0.9971 - val_loss: 1.0251 - val_accuracy: 0.9794\n",
      "Epoch 48/50\n",
      "60/60 [==============================] - 1s 9ms/step - loss: 0.0285 - accuracy: 0.9982 - val_loss: 1.1178 - val_accuracy: 0.9784\n",
      "Epoch 49/50\n",
      "60/60 [==============================] - 1s 9ms/step - loss: 0.0322 - accuracy: 0.9981 - val_loss: 0.9099 - val_accuracy: 0.9820\n",
      "Epoch 50/50\n",
      "60/60 [==============================] - 1s 9ms/step - loss: 0.0296 - accuracy: 0.9981 - val_loss: 1.0333 - val_accuracy: 0.9782\n"
     ]
    }
   ],
   "source": [
    "model.compile(loss='categorical_crossentropy',optimizer=RMSprop(learning_rate=0.001),metrics=['accuracy'])\n",
    "history2 = model.fit(X_train,Y_train, validation_data=(X_test,Y_test), batch_size=1000, epochs=50)"
   ]
  },
  {
   "cell_type": "code",
   "execution_count": 6,
   "metadata": {},
   "outputs": [
    {
     "name": "stdout",
     "output_type": "stream",
     "text": [
      "Epoch 1/50\n",
      "15/60 [======>.......................] - ETA: 0s - loss: 0.0224 - accuracy: 0.9986"
     ]
    },
    {
     "name": "stderr",
     "output_type": "stream",
     "text": [
      "2022-10-21 11:36:32.265898: I tensorflow/core/grappler/optimizers/custom_graph_optimizer_registry.cc:113] Plugin optimizer for device_type GPU is enabled.\n"
     ]
    },
    {
     "name": "stdout",
     "output_type": "stream",
     "text": [
      "60/60 [==============================] - 1s 10ms/step - loss: 0.0585 - accuracy: 0.9973 - val_loss: 1.1825 - val_accuracy: 0.9784\n",
      "Epoch 2/50\n",
      "15/60 [======>.......................] - ETA: 0s - loss: 0.1008 - accuracy: 0.9959"
     ]
    },
    {
     "name": "stderr",
     "output_type": "stream",
     "text": [
      "2022-10-21 11:36:32.867945: I tensorflow/core/grappler/optimizers/custom_graph_optimizer_registry.cc:113] Plugin optimizer for device_type GPU is enabled.\n"
     ]
    },
    {
     "name": "stdout",
     "output_type": "stream",
     "text": [
      "60/60 [==============================] - 1s 9ms/step - loss: 0.1019 - accuracy: 0.9954 - val_loss: 1.1780 - val_accuracy: 0.9763\n",
      "Epoch 3/50\n",
      "60/60 [==============================] - 1s 9ms/step - loss: 0.0700 - accuracy: 0.9965 - val_loss: 1.0199 - val_accuracy: 0.9787\n",
      "Epoch 4/50\n",
      "60/60 [==============================] - 1s 9ms/step - loss: 0.0613 - accuracy: 0.9973 - val_loss: 1.0611 - val_accuracy: 0.9786\n",
      "Epoch 5/50\n",
      "60/60 [==============================] - 1s 9ms/step - loss: 0.0557 - accuracy: 0.9970 - val_loss: 1.0675 - val_accuracy: 0.9804\n",
      "Epoch 6/50\n",
      "60/60 [==============================] - 1s 8ms/step - loss: 0.0580 - accuracy: 0.9971 - val_loss: 1.0701 - val_accuracy: 0.9785\n",
      "Epoch 7/50\n",
      "60/60 [==============================] - 1s 8ms/step - loss: 0.0642 - accuracy: 0.9967 - val_loss: 1.1314 - val_accuracy: 0.9798\n",
      "Epoch 8/50\n",
      "60/60 [==============================] - 1s 9ms/step - loss: 0.0533 - accuracy: 0.9973 - val_loss: 0.9755 - val_accuracy: 0.9797\n",
      "Epoch 9/50\n",
      "60/60 [==============================] - 1s 9ms/step - loss: 0.0652 - accuracy: 0.9964 - val_loss: 0.9695 - val_accuracy: 0.9817\n",
      "Epoch 10/50\n",
      "60/60 [==============================] - 1s 8ms/step - loss: 0.0607 - accuracy: 0.9973 - val_loss: 1.1056 - val_accuracy: 0.9813\n",
      "Epoch 11/50\n",
      "60/60 [==============================] - 1s 9ms/step - loss: 0.0481 - accuracy: 0.9976 - val_loss: 0.9700 - val_accuracy: 0.9818\n",
      "Epoch 12/50\n",
      "60/60 [==============================] - 1s 8ms/step - loss: 0.0518 - accuracy: 0.9972 - val_loss: 1.0492 - val_accuracy: 0.9797\n",
      "Epoch 13/50\n",
      "60/60 [==============================] - 1s 8ms/step - loss: 0.0415 - accuracy: 0.9977 - val_loss: 0.9483 - val_accuracy: 0.9814\n",
      "Epoch 14/50\n",
      "60/60 [==============================] - 1s 9ms/step - loss: 0.0429 - accuracy: 0.9980 - val_loss: 1.0089 - val_accuracy: 0.9805\n",
      "Epoch 15/50\n",
      "60/60 [==============================] - 1s 8ms/step - loss: 0.0381 - accuracy: 0.9979 - val_loss: 1.0124 - val_accuracy: 0.9810\n",
      "Epoch 16/50\n",
      "60/60 [==============================] - 1s 9ms/step - loss: 0.0423 - accuracy: 0.9977 - val_loss: 1.1380 - val_accuracy: 0.9789\n",
      "Epoch 17/50\n",
      "60/60 [==============================] - 1s 9ms/step - loss: 0.0427 - accuracy: 0.9979 - val_loss: 1.0327 - val_accuracy: 0.9817\n",
      "Epoch 18/50\n",
      "60/60 [==============================] - 1s 9ms/step - loss: 0.0351 - accuracy: 0.9982 - val_loss: 0.9949 - val_accuracy: 0.9821\n",
      "Epoch 19/50\n",
      "60/60 [==============================] - 1s 9ms/step - loss: 0.0365 - accuracy: 0.9979 - val_loss: 1.1089 - val_accuracy: 0.9792\n",
      "Epoch 20/50\n",
      "60/60 [==============================] - 1s 9ms/step - loss: 0.0368 - accuracy: 0.9980 - val_loss: 1.1931 - val_accuracy: 0.9802\n",
      "Epoch 21/50\n",
      "60/60 [==============================] - 1s 9ms/step - loss: 0.0384 - accuracy: 0.9982 - val_loss: 1.2538 - val_accuracy: 0.9785\n",
      "Epoch 22/50\n",
      "60/60 [==============================] - 1s 9ms/step - loss: 0.0387 - accuracy: 0.9979 - val_loss: 1.1754 - val_accuracy: 0.9789\n",
      "Epoch 23/50\n",
      "60/60 [==============================] - 1s 9ms/step - loss: 0.0355 - accuracy: 0.9981 - val_loss: 1.1737 - val_accuracy: 0.9800\n",
      "Epoch 24/50\n",
      "60/60 [==============================] - 1s 9ms/step - loss: 0.0414 - accuracy: 0.9980 - val_loss: 1.1000 - val_accuracy: 0.9806\n",
      "Epoch 25/50\n",
      "60/60 [==============================] - 1s 9ms/step - loss: 0.0541 - accuracy: 0.9978 - val_loss: 1.1952 - val_accuracy: 0.9788\n",
      "Epoch 26/50\n",
      "60/60 [==============================] - 1s 9ms/step - loss: 0.0463 - accuracy: 0.9977 - val_loss: 1.0889 - val_accuracy: 0.9801\n",
      "Epoch 27/50\n",
      "60/60 [==============================] - 1s 9ms/step - loss: 0.0258 - accuracy: 0.9985 - val_loss: 1.1672 - val_accuracy: 0.9792\n",
      "Epoch 28/50\n",
      "60/60 [==============================] - 1s 9ms/step - loss: 0.0226 - accuracy: 0.9985 - val_loss: 1.0102 - val_accuracy: 0.9827\n",
      "Epoch 29/50\n",
      "60/60 [==============================] - 1s 9ms/step - loss: 0.0392 - accuracy: 0.9982 - val_loss: 1.1727 - val_accuracy: 0.9801\n",
      "Epoch 30/50\n",
      "60/60 [==============================] - 1s 9ms/step - loss: 0.0514 - accuracy: 0.9981 - val_loss: 1.1788 - val_accuracy: 0.9810\n",
      "Epoch 31/50\n",
      "60/60 [==============================] - 1s 9ms/step - loss: 0.0319 - accuracy: 0.9985 - val_loss: 1.1330 - val_accuracy: 0.9819\n",
      "Epoch 32/50\n",
      "60/60 [==============================] - 1s 9ms/step - loss: 0.0376 - accuracy: 0.9980 - val_loss: 1.1615 - val_accuracy: 0.9792\n",
      "Epoch 33/50\n",
      "60/60 [==============================] - 1s 9ms/step - loss: 0.0408 - accuracy: 0.9981 - val_loss: 1.1039 - val_accuracy: 0.9792\n",
      "Epoch 34/50\n",
      "60/60 [==============================] - 1s 9ms/step - loss: 0.0296 - accuracy: 0.9985 - val_loss: 1.1679 - val_accuracy: 0.9790\n",
      "Epoch 35/50\n",
      "60/60 [==============================] - 1s 9ms/step - loss: 0.0300 - accuracy: 0.9983 - val_loss: 1.3640 - val_accuracy: 0.9779\n",
      "Epoch 36/50\n",
      "60/60 [==============================] - 1s 9ms/step - loss: 0.0374 - accuracy: 0.9981 - val_loss: 1.1305 - val_accuracy: 0.9818\n",
      "Epoch 37/50\n",
      "60/60 [==============================] - 1s 9ms/step - loss: 0.0280 - accuracy: 0.9986 - val_loss: 1.1836 - val_accuracy: 0.9824\n",
      "Epoch 38/50\n",
      "60/60 [==============================] - 1s 9ms/step - loss: 0.0258 - accuracy: 0.9985 - val_loss: 1.1073 - val_accuracy: 0.9810\n",
      "Epoch 39/50\n",
      "60/60 [==============================] - 1s 8ms/step - loss: 0.0301 - accuracy: 0.9985 - val_loss: 1.1394 - val_accuracy: 0.9810\n",
      "Epoch 40/50\n",
      "60/60 [==============================] - 1s 9ms/step - loss: 0.0404 - accuracy: 0.9982 - val_loss: 1.2232 - val_accuracy: 0.9790\n",
      "Epoch 41/50\n",
      "60/60 [==============================] - 1s 9ms/step - loss: 0.0261 - accuracy: 0.9986 - val_loss: 1.1307 - val_accuracy: 0.9828\n",
      "Epoch 42/50\n",
      "60/60 [==============================] - 1s 8ms/step - loss: 0.0330 - accuracy: 0.9983 - val_loss: 1.1743 - val_accuracy: 0.9825\n",
      "Epoch 43/50\n",
      "60/60 [==============================] - 1s 9ms/step - loss: 0.0372 - accuracy: 0.9985 - val_loss: 1.0727 - val_accuracy: 0.9820\n",
      "Epoch 44/50\n",
      "60/60 [==============================] - 1s 8ms/step - loss: 0.0375 - accuracy: 0.9983 - val_loss: 1.2445 - val_accuracy: 0.9796\n",
      "Epoch 45/50\n",
      "60/60 [==============================] - 1s 8ms/step - loss: 0.0647 - accuracy: 0.9974 - val_loss: 1.3556 - val_accuracy: 0.9801\n",
      "Epoch 46/50\n",
      "60/60 [==============================] - 1s 8ms/step - loss: 0.0438 - accuracy: 0.9983 - val_loss: 1.3502 - val_accuracy: 0.9791\n",
      "Epoch 47/50\n",
      "60/60 [==============================] - 1s 9ms/step - loss: 0.0483 - accuracy: 0.9980 - val_loss: 1.2938 - val_accuracy: 0.9805\n",
      "Epoch 48/50\n",
      "60/60 [==============================] - 1s 9ms/step - loss: 0.0300 - accuracy: 0.9985 - val_loss: 1.2894 - val_accuracy: 0.9813\n",
      "Epoch 49/50\n",
      "60/60 [==============================] - 1s 9ms/step - loss: 0.0236 - accuracy: 0.9989 - val_loss: 1.3038 - val_accuracy: 0.9829\n",
      "Epoch 50/50\n",
      "60/60 [==============================] - 1s 8ms/step - loss: 0.0366 - accuracy: 0.9984 - val_loss: 1.3373 - val_accuracy: 0.9817\n"
     ]
    }
   ],
   "source": [
    "model.compile(loss='categorical_crossentropy',optimizer=Adam(learning_rate=0.001),metrics=['accuracy'])\n",
    "history3 = model.fit(X_train,Y_train, validation_data=(X_test,Y_test), batch_size=1000, epochs=50)"
   ]
  },
  {
   "cell_type": "code",
   "execution_count": 4,
   "metadata": {},
   "outputs": [
    {
     "name": "stdout",
     "output_type": "stream",
     "text": [
      "Epoch 1/50\n"
     ]
    },
    {
     "name": "stderr",
     "output_type": "stream",
     "text": [
      "2022-10-21 17:41:18.532028: I tensorflow/core/grappler/optimizers/custom_graph_optimizer_registry.cc:113] Plugin optimizer for device_type GPU is enabled.\n"
     ]
    },
    {
     "ename": "",
     "evalue": "",
     "output_type": "error",
     "traceback": [
      "\u001b[1;31mThe Kernel crashed while executing code in the the current cell or a previous cell. Please review the code in the cell(s) to identify a possible cause of the failure. Click <a href='https://aka.ms/vscodeJupyterKernelCrash'>here</a> for more info. View Jupyter <a href='command:jupyter.viewOutput'>log</a> for further details."
     ]
    },
    {
     "ename": "",
     "evalue": "",
     "output_type": "error",
     "traceback": [
      "\u001b[1;31mCanceled future for execute_request message before replies were done"
     ]
    }
   ],
   "source": [
    "model.compile(loss='categorical_crossentropy',optimizer=SGD(momentum=0.9),metrics=['accuracy'])\n",
    "history4 = model.fit(X_train,Y_train, validation_data=(X_test,Y_test), batch_size=100, epochs=50)"
   ]
  }
 ],
 "metadata": {
  "kernelspec": {
   "display_name": "Python 3.9.13 ('tf')",
   "language": "python",
   "name": "python3"
  },
  "language_info": {
   "codemirror_mode": {
    "name": "ipython",
    "version": 3
   },
   "file_extension": ".py",
   "mimetype": "text/x-python",
   "name": "python",
   "nbconvert_exporter": "python",
   "pygments_lexer": "ipython3",
   "version": "3.9.13"
  },
  "vscode": {
   "interpreter": {
    "hash": "ee3717197db56dab91ad083a26bef10706ce761f0ab8e349ac843a6f8d1f4192"
   }
  }
 },
 "nbformat": 4,
 "nbformat_minor": 2
}
